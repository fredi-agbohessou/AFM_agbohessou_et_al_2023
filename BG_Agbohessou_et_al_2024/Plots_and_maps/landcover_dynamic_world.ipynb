{
 "cells": [
  {
   "cell_type": "markdown",
   "metadata": {},
   "source": [
    "<a href=\"https://githubtocolab.com/giswqs/geemap/blob/master/examples/notebooks/114_dynamic_world.ipynb\" target=\"_parent\"><img src=\"https://colab.research.google.com/assets/colab-badge.svg\" alt=\"Open in Colab\"/></a>\n",
    "\n",
    "**Creating near real-time global 10-m land cover maps with geemap and Dynamic World**\n",
    "\n",
    "y. agbohessou\n",
    "\n",
    "- App: https://www.dynamicworld.app\n",
    "- App2: https://earthoutreach.users.earthengine.app/view/dynamicworld\n",
    "- Paper: https://doi.org/10.1038/s41597-022-01307-4\n",
    "- Model: https://github.com/google/dynamicworld\n",
    "- Training data: https://doi.pangaea.de/10.1594/PANGAEA.933475\n",
    "- Data: https://developers.google.com/earth-engine/datasets/catalog/GOOGLE_DYNAMICWORLD_V1\n",
    "- JavaScript tutorial: https://developers.google.com/earth-engine/tutorials/community/introduction-to-dynamic-world-pt-1"
   ]
  },
  {
   "cell_type": "code",
   "execution_count": 5,
   "metadata": {},
   "outputs": [],
   "source": [
    "#pip install geemap\n"
   ]
  },
  {
   "cell_type": "code",
   "execution_count": 1,
   "metadata": {},
   "outputs": [],
   "source": [
    "import ee\n",
    "import geemap"
   ]
  },
  {
   "cell_type": "code",
   "execution_count": 2,
   "metadata": {},
   "outputs": [
    {
     "data": {
      "application/vnd.jupyter.widget-view+json": {
       "model_id": "97dfbeac45de46999b66c9d84eaa1962",
       "version_major": 2,
       "version_minor": 0
      },
      "text/plain": [
       "Map(center=[20, 0], controls=(WidgetControl(options=['position', 'transparent_bg'], widget=HBox(children=(Togg…"
      ]
     },
     "metadata": {},
     "output_type": "display_data"
    }
   ],
   "source": [
    "Map = geemap.Map()\n",
    "Map.add_basemap('HYBRID')\n",
    "Map"
   ]
  },
  {
   "cell_type": "code",
   "execution_count": 3,
   "metadata": {},
   "outputs": [],
   "source": [
    "# Set the region of interest by simply drawing a polygon on the map\n",
    "region = Map.user_roi\n",
    "if region is None:\n",
    "    #region = ee.Geometry.BBox(-17.6, 12.3, -11.3, 16.7)# Senegal\n",
    "    region = ee.Geometry.BBox(-18, 13, 20, 18)# Sahel\n",
    "\n",
    "Map.centerObject(region)"
   ]
  },
  {
   "cell_type": "code",
   "execution_count": 4,
   "metadata": {},
   "outputs": [],
   "source": [
    "# Set the date range\n",
    "start_date = '2021-08-01'\n",
    "end_date = '2021-11-30'"
   ]
  },
  {
   "cell_type": "code",
   "execution_count": 5,
   "metadata": {},
   "outputs": [],
   "source": [
    "# Create a Sentinel-2 image composite\n",
    "image = geemap.dynamic_world_s2(region, start_date, end_date)\n",
    "vis_params = {'bands': ['B4', 'B3', 'B2'], 'min': 0, 'max': 3000}\n",
    "Map.addLayer(image, vis_params, 'Sentinel-2 image')"
   ]
  },
  {
   "cell_type": "code",
   "execution_count": 6,
   "metadata": {},
   "outputs": [],
   "source": [
    "# Create Dynamic World land cover composite\n",
    "landcover = geemap.dynamic_world(region, start_date, end_date, return_type='hillshade')\n",
    "# hillshade to see the highs (high accuracy) and the lows (low accuracy) when we zoom the img. \n",
    "#every pixel is a probability of classification\n",
    "#landcover = geemap.dynamic_world(region, start_date, end_date, return_type='visualize')\n",
    "Map.addLayer(landcover, {}, 'Land Cover')"
   ]
  },
  {
   "cell_type": "code",
   "execution_count": 7,
   "metadata": {},
   "outputs": [],
   "source": [
    "# visualize the classes with the original imagery\n",
    "landcover = geemap.dynamic_world(region, start_date, end_date, return_type='class')\n",
    "vis = {'min':0, 'max':8, 'palette':  [\n",
    "    '#419BDF', '#397D49', '#88B053', '#7A87C6', '#E49635', '#DFC35A',\n",
    "    '#C4281B', '#A59B8F', '#B39FE1'\n",
    "  ]}\n",
    "Map.addLayer(landcover, vis, 'Land Cover')\n",
    "\n",
    "# in the setting, click inspector and then click on a pixel to see its class"
   ]
  },
  {
   "cell_type": "code",
   "execution_count": 34,
   "metadata": {},
   "outputs": [],
   "source": [
    "# get the probability that a pixel is well classified \n",
    "landcover = geemap.dynamic_world(region, start_date, end_date, return_type='probability')\n",
    "vis = {'min':0, 'max':8, 'palette':  [\n",
    "    '#419BDF', '#397D49', '#88B053', '#7A87C6', '#E49635', '#DFC35A',\n",
    "    '#C4281B', '#A59B8F', '#B39FE1'\n",
    "  ]}\n",
    "Map.addLayer(landcover, {}, 'Land Cover')\n",
    "\n",
    "# in the setting, click inspector and then click on a pixel to see its class"
   ]
  },
  {
   "cell_type": "code",
   "execution_count": 8,
   "metadata": {},
   "outputs": [
    {
     "name": "stdout",
     "output_type": "stream",
     "text": [
      "Exporting sahel_landcover_wet_season_2021_08_to_11.tif ...\n"
     ]
    }
   ],
   "source": [
    "# to download the image\n",
    "#geemap.ee_export_image(landcover,\"landcover.tif\",scale=100) #for small area\n",
    "geemap.ee_export_image_to_drive(landcover,\"sahel_landcover_wet_season_2021_08_to_11.tif\",scale=100) #for large area "
   ]
  },
  {
   "cell_type": "code",
   "execution_count": 66,
   "metadata": {
    "scrolled": false,
    "tags": []
   },
   "outputs": [
    {
     "data": {
      "application/vnd.jupyter.widget-view+json": {
       "model_id": "af22a5619f2241249775fb54945c1b85",
       "version_major": 2,
       "version_minor": 0
      },
      "text/plain": [
       "Map(bottom=15326.800048828125, center=[14.745135361581408, -13.176648223577743], controls=(WidgetControl(optio…"
      ]
     },
     "metadata": {},
     "output_type": "display_data"
    }
   ],
   "source": [
    "# Add legend to the map\n",
    "Map.add_legend(title=\"Dynamic World Land Cover\", builtin_legend='Dynamic_World')\n",
    "Map"
   ]
  },
  {
   "cell_type": "markdown",
   "metadata": {},
   "source": [
    "![](https://i.imgur.com/GEzsSii.png)"
   ]
  }
 ],
 "metadata": {
  "anaconda-cloud": {},
  "kernelspec": {
   "display_name": "Python 3",
   "language": "python",
   "name": "python3"
  },
  "language_info": {
   "codemirror_mode": {
    "name": "ipython",
    "version": 3
   },
   "file_extension": ".py",
   "mimetype": "text/x-python",
   "name": "python",
   "nbconvert_exporter": "python",
   "pygments_lexer": "ipython3",
   "version": "3.8.5"
  }
 },
 "nbformat": 4,
 "nbformat_minor": 4
}
